{
 "cells": [
  {
   "cell_type": "code",
   "execution_count": 49,
   "metadata": {
    "collapsed": false
   },
   "outputs": [
    {
     "name": "stdout",
     "output_type": "stream",
     "text": [
      "Output After Traing\n",
      "[[ 0.00966449]\n",
      " [ 0.00786506]\n",
      " [ 0.99358898]\n",
      " [ 0.99211957]]\n"
     ]
    }
   ],
   "source": [
    "import numpy as np\n",
    "\n",
    "#sigmoid function\n",
    "\n",
    "def nonlin(x, deriv=False):\n",
    "    if (deriv==True):\n",
    "        return x*(1-x)\n",
    "    return 1/(1+np.exp(-x))\n",
    "\n",
    "#input dataset\n",
    "\n",
    "X = np.array([ [0,0,1],\n",
    "                [0,1,1],\n",
    "                [1,0,1], \n",
    "                [1,1,1]])\n",
    "\n",
    "\n",
    "# 결과 데이터값\n",
    "\n",
    "y = np.array([[0,0,1,1]]).T\n",
    "\n",
    "# 계산을 위한 시드 설정.\n",
    "# 결정해놓음 (just a practice)\n",
    "np.random.seed(1) # 20번째\n",
    "\n",
    "# weights를 랜덤적으로 평균 0으로 초기화하기\n",
    "syn0 = 2*np.random.random((3,1)) - 1 # 23번째\n",
    "\n",
    "\n",
    "for iter in range(10000): # 25번째\n",
    "\n",
    "    # forwad propagation\n",
    "    l0 = X\n",
    "    l1 = nonlin(np.dot(l0, syn0))\n",
    "\n",
    "    # 우리가 얼마나 놓쳤는가?\n",
    "    l1_error = y- l1\n",
    "\n",
    "    # 우리가 놓친 것들과 \n",
    "    # 11 의 시그모이드 경사와 곱하기.\n",
    "    l1_delta = l1_error * nonlin(l1, True)\n",
    "\n",
    "    # weight 업뎃\n",
    "    syn0 += np.dot(l0.T, l1_delta)\n",
    "\n",
    "print (\"Output After Traing\")\n",
    "print (l1)\n"
   ]
  },
  {
   "cell_type": "code",
   "execution_count": 20,
   "metadata": {
    "collapsed": false
   },
   "outputs": [
    {
     "name": "stdout",
     "output_type": "stream",
     "text": [
      "-1.16572724\n"
     ]
    }
   ],
   "source": [
    "print ((-0.16595599)  + (-0.99977125))"
   ]
  },
  {
   "cell_type": "code",
   "execution_count": 60,
   "metadata": {
    "collapsed": false
   },
   "outputs": [
    {
     "name": "stdout",
     "output_type": "stream",
     "text": [
      "[[ 2.24869073]\n",
      " [-2.22351283]\n",
      " [-2.0563435 ]]\n"
     ]
    }
   ],
   "source": [
    "import numpy as np\n",
    "\n",
    "#sigmoid function\n",
    "\n",
    "def nonlin(x, deriv=False):\n",
    "    if (deriv==True):\n",
    "        return x*(1-x)\n",
    "    return 1/(1+np.exp(-x))\n",
    "\n",
    "#input dataset\n",
    "\n",
    "X = np.array([ [0,0,1],\n",
    "                [0,1,1],\n",
    "                [1,0,1], \n",
    "                [1,1,1]])\n",
    "\n",
    "\n",
    "# 결과 데이터값\n",
    "\n",
    "y = np.array([[0,0,1,1]]).T\n",
    "\n",
    "# 계산을 위한 시드 설정.\n",
    "# 결정해놓음 (just a practice)\n",
    "np.random.seed(1) # 20번째\n",
    "\n",
    "# weights를 랜덤적으로 평균 0으로 초기화하기\n",
    "syn0 = 2*np.random.randn(3,1) - 1\n",
    "\n",
    "# 23번째\n",
    "\n",
    "\n",
    "l1 = nonlin(np.dot(X, syn0))\n",
    "\n",
    "print (syn0)\n",
    "\n"
   ]
  },
  {
   "cell_type": "code",
   "execution_count": 65,
   "metadata": {
    "collapsed": false
   },
   "outputs": [
    {
     "name": "stdout",
     "output_type": "stream",
     "text": [
      "에러:0.496410031903\n",
      "에러:0.00858452565325\n",
      "에러:0.00578945986251\n",
      "에러:0.00462917677677\n",
      "에러:0.00395876528027\n",
      "에러:0.00351012256786\n"
     ]
    }
   ],
   "source": [
    "import numpy as np\n",
    "\n",
    "def nonlin(x,deriv=False):\n",
    "    if(deriv==True):\n",
    "        return x*(1-x)\n",
    "    return 1/(1+np.exp(-x))\n",
    "    \n",
    "X = np.array([[0,0,1],\n",
    "            [0,1,1],\n",
    "            [1,0,1],\n",
    "            [1,1,1]])\n",
    "                \n",
    "y = np.array([[0],\n",
    "            [1],\n",
    "            [1],\n",
    "            [0]])\n",
    "\n",
    "np.random.seed(1)\n",
    "\n",
    "# weights를 랜덤적으로 mean of 0으로 초기화하기\n",
    "syn0 = 2*np.random.random((3,4)) - 1\n",
    "syn1 = 2*np.random.random((4,1)) - 1\n",
    "\n",
    "for j in range(60000):\n",
    "\n",
    "    #  레이어 0, 1, 2 로 키우기\n",
    "    l0 = X\n",
    "    l1 = nonlin(np.dot(l0,syn0))\n",
    "    l2 = nonlin(np.dot(l1,syn1))\n",
    "\n",
    "    # 목표로 한 값에 비해 얼마나 놓쳤을까?\n",
    "    l2_error = y - l2\n",
    "    \n",
    "    if (j% 10000) == 0:\n",
    "        print (\"에러:\" + str(np.mean(np.abs(l2_error))))\n",
    "        \n",
    "    # 목표 값들의 방향은 무엇인가?\n",
    "    # 정말 확신할 수 있나요? 그렇다면 많이 바꾸면 안된다. \n",
    "    l2_delta = l2_error*nonlin(l2,deriv=True)\n",
    "\n",
    "    # (웨이트에 따르면) 얼마나 각각의 l1 값들은 l2에러에 기여했을까? \n",
    "    l1_error = l2_delta.dot(syn1.T)\n",
    "    \n",
    "    # l1 목표의 방향은 무엇인가요?\n",
    "    # 정말 확신할 수 있나요? 그렇다면 많이 바꾸면 안된다. \n",
    "    l1_delta = l1_error * nonlin(l1,deriv=True)\n",
    "\n",
    "    syn1 += l1.T.dot(l2_delta)\n",
    "    syn0 += l0.T.dot(l1_delta)"
   ]
  },
  {
   "cell_type": "code",
   "execution_count": 35,
   "metadata": {
    "collapsed": false
   },
   "outputs": [
    {
     "data": {
      "text/plain": [
       "-0.999771250365"
      ]
     },
     "execution_count": 35,
     "metadata": {},
     "output_type": "execute_result"
    }
   ],
   "source": []
  },
  {
   "cell_type": "code",
   "execution_count": 36,
   "metadata": {
    "collapsed": false
   },
   "outputs": [
    {
     "data": {
      "text/plain": [
       "1.0"
      ]
     },
     "execution_count": 36,
     "metadata": {},
     "output_type": "execute_result"
    }
   ],
   "source": []
  },
  {
   "cell_type": "code",
   "execution_count": null,
   "metadata": {
    "collapsed": true
   },
   "outputs": [],
   "source": []
  }
 ],
 "metadata": {
  "kernelspec": {
   "display_name": "Python 3",
   "language": "python",
   "name": "python3"
  },
  "language_info": {
   "codemirror_mode": {
    "name": "ipython",
    "version": 3
   },
   "file_extension": ".py",
   "mimetype": "text/x-python",
   "name": "python",
   "nbconvert_exporter": "python",
   "pygments_lexer": "ipython3",
   "version": "3.5.1"
  }
 },
 "nbformat": 4,
 "nbformat_minor": 0
}
